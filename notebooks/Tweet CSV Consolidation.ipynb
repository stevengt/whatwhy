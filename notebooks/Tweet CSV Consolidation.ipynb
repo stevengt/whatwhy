{
 "cells": [
  {
   "cell_type": "markdown",
   "metadata": {},
   "source": [
    "This notebook contains helper methods for combining tweet texts from multiple CSV files into one CSV file or pandas DataFrame."
   ]
  },
  {
   "cell_type": "code",
   "execution_count": 1,
   "metadata": {},
   "outputs": [],
   "source": [
    "import io\n",
    "import csv\n",
    "import pandas as pd\n",
    "import numpy as np"
   ]
  },
  {
   "cell_type": "code",
   "execution_count": 2,
   "metadata": {},
   "outputs": [],
   "source": [
    "root_dir = \"../\""
   ]
  },
  {
   "cell_type": "code",
   "execution_count": 3,
   "metadata": {},
   "outputs": [],
   "source": [
    "sources = {\n",
    "    \"Cheng-Caverlee-Lee\" : {\n",
    "        \"URL\":\"https://archive.org/details/twitter_cikm_2010\",\n",
    "        \"filenames\" : [\n",
    "            \"Tweets/Cheng-Caverlee-Lee/twitter_cikm_2010/all_tweets.txt\"\n",
    "        ]\n",
    "    },\n",
    "    \"Russian-Troll-Tweets\" : {\n",
    "        \"URL\" : \"https://github.com/fivethirtyeight/russian-troll-tweets/\",\n",
    "        \"filenames\" : [\n",
    "            \"Tweets/Russian-Troll-Tweets/russian-troll-tweets-master/IRAhandle_tweets_1.csv\",\n",
    "            \"Tweets/Russian-Troll-Tweets/russian-troll-tweets-master/IRAhandle_tweets_2.csv\",\n",
    "            \"Tweets/Russian-Troll-Tweets/russian-troll-tweets-master/IRAhandle_tweets_3.csv\",\n",
    "            \"Tweets/Russian-Troll-Tweets/russian-troll-tweets-master/IRAhandle_tweets_4.csv\",\n",
    "            \"Tweets/Russian-Troll-Tweets/russian-troll-tweets-master/IRAhandle_tweets_5.csv\",\n",
    "            \"Tweets/Russian-Troll-Tweets/russian-troll-tweets-master/IRAhandle_tweets_6.csv\",\n",
    "            \"Tweets/Russian-Troll-Tweets/russian-troll-tweets-master/IRAhandle_tweets_7.csv\",\n",
    "            \"Tweets/Russian-Troll-Tweets/russian-troll-tweets-master/IRAhandle_tweets_8.csv\",\n",
    "            \"Tweets/Russian-Troll-Tweets/russian-troll-tweets-master/IRAhandle_tweets_9.csv\",\n",
    "            \"Tweets/Russian-Troll-Tweets/russian-troll-tweets-master/IRAhandle_tweets_10.csv\",\n",
    "            \"Tweets/Russian-Troll-Tweets/russian-troll-tweets-master/IRAhandle_tweets_11.csv\",\n",
    "            \"Tweets/Russian-Troll-Tweets/russian-troll-tweets-master/IRAhandle_tweets_12.csv\",\n",
    "            \"Tweets/Russian-Troll-Tweets/russian-troll-tweets-master/IRAhandle_tweets_13.csv\"\n",
    "        ]\n",
    "    },\n",
    "    \"Sentiment140\" : {\n",
    "        \"URL\" : \"http://help.sentiment140.com/for-students/\",\n",
    "        \"filenames\" : [\n",
    "            \"Tweets/Sentiment140/trainingandtestdata/all_tweets.csv\"\n",
    "        ]\n",
    "    },\n",
    "    \"GWU-TweetSets\" : {\n",
    "        \"115th-Congress-Reps\" : {\n",
    "            \"URL\" : \"https://tweetsets.library.gwu.edu/dataset/6d30e16b\",\n",
    "            \"filenames\" : [\n",
    "                \"Tweets/GWU-TweetSets/115th-Congress-Reps/all_tweets.csv\"\n",
    "            ]\n",
    "        },\n",
    "        \"115th-Congress-Senators\" : {\n",
    "            \"URL\" : \"http://tweetsets.library.gwu.edu/dataset/f3a5b1b2\",\n",
    "            \"filenames\" : [\n",
    "                \"Tweets/GWU-TweetSets/115th-Congress-Senators/all_tweets.csv\"\n",
    "            ]\n",
    "        },\n",
    "        \"Charlottesville\" : {\n",
    "            \"URL\" : \"https://tweetsets.library.gwu.edu/dataset/2cfbd74b\",\n",
    "            \"filenames\" : [\n",
    "                \"Tweets/GWU-TweetSets/Charlottesville/all_tweets.csv\"\n",
    "            ]\n",
    "        },\n",
    "        \"Climate-Change\" : {\n",
    "            \"URL\" : \"http://tweetsets.library.gwu.edu/dataset/19627add\",\n",
    "            \"filenames\" : [\n",
    "                \"Tweets/GWU-TweetSets/Climate-Change/tweets.csv\",\n",
    "                \"Tweets/GWU-TweetSets/Climate-Change/tweets1207.csv\",\n",
    "                \"Tweets/GWU-TweetSets/Climate-Change/tweets2107.csv\",\n",
    "                \"Tweets/GWU-TweetSets/Climate-Change/tweets3007.csv\"\n",
    "            ]\n",
    "        },\n",
    "        \"Healthcare-Filter\" : {\n",
    "            \"URL\" : \"http://tweetsets.library.gwu.edu/dataset/4d53eca6\",\n",
    "            \"filenames\" : [\n",
    "                \"Tweets/GWU-TweetSets/Healthcare-Filter/tweets.csv\",\n",
    "                \"Tweets/GWU-TweetSets/Healthcare-Filter/tweets425.csv\",\n",
    "                \"Tweets/GWU-TweetSets/Healthcare-Filter/tweets1325.csv\",\n",
    "                \"Tweets/GWU-TweetSets/Healthcare-Filter/tweets2225.csv\",\n",
    "                \"Tweets/GWU-TweetSets/Healthcare-Filter/tweets3125.csv\",\n",
    "                \"Tweets/GWU-TweetSets/Healthcare-Filter/tweets4025.csv\",\n",
    "                \"Tweets/GWU-TweetSets/Healthcare-Filter/tweets4925.csv\",\n",
    "                \"Tweets/GWU-TweetSets/Healthcare-Filter/tweets5825.csv\",\n",
    "                \"Tweets/GWU-TweetSets/Healthcare-Filter/tweets6725.csv\"\n",
    "            ]\n",
    "        },\n",
    "        \"Healthcare-Search\" : {\n",
    "            \"URL\" : \"http://tweetsets.library.gwu.edu/dataset/c3c06860\",\n",
    "            \"filenames\" : [\n",
    "                \"Tweets/GWU-TweetSets/Healthcare-Search/all_tweets.csv\",\n",
    "            ]\n",
    "        },\n",
    "        \"US-Government\" : {\n",
    "            \"URL\" : \"http://tweetsets.library.gwu.edu/dataset/839d1dd5\",\n",
    "            \"filenames\" : [\n",
    "                \"Tweets/GWU-TweetSets/US-Government/all_tweets.csv\",\n",
    "            ]\n",
    "        }\n",
    "    }\n",
    "}"
   ]
  },
  {
   "cell_type": "code",
   "execution_count": 4,
   "metadata": {},
   "outputs": [],
   "source": [
    "def get_cheng_caverlee_lee_df():\n",
    "    source_name = \"Cheng-Caverlee-Lee\"\n",
    "    source_URL = sources[source_name][\"URL\"]\n",
    "    filenames = sources[source_name][\"filenames\"]\n",
    "    print(f\"Extracting {source_name} data\")\n",
    "\n",
    "    csv_data_as_list = []\n",
    "    with io.open( root_dir + filenames[0], mode=\"r\", encoding=\"utf-8\" ) as csv_data:\n",
    "        for line in csv_data:\n",
    "            try:\n",
    "                line_as_list = line.encode('ascii', 'ignore').decode('ascii').split()\n",
    "                tweet_id = line_as_list[1]\n",
    "                text = \" \".join( line_as_list[2:-2] )\n",
    "                csv_data_as_list.append( [tweet_id, text] )\n",
    "            except:\n",
    "                continue\n",
    "\n",
    "    df = pd.DataFrame(csv_data_as_list, columns=[\"Tweet ID\", \"Text\"])\n",
    "    df.set_index(\"Tweet ID\", inplace=True)\n",
    "    df.drop_duplicates(subset=\"Text\", inplace=True)\n",
    "    df[\"Source Name\"] = source_name\n",
    "    df[\"Source URL\"] = source_URL\n",
    "    return df"
   ]
  },
  {
   "cell_type": "code",
   "execution_count": 5,
   "metadata": {},
   "outputs": [],
   "source": [
    "def get_russian_troll_tweets_df():\n",
    "    source_name = \"Russian-Troll-Tweets\"\n",
    "    source_URL = sources[source_name][\"URL\"]\n",
    "    filenames = sources[source_name][\"filenames\"]\n",
    "    print(f\"Extracting {source_name} data\")\n",
    "\n",
    "    df = pd.concat( [ pd.read_csv(root_dir + filename) for filename in filenames ] )\n",
    "    df.rename( columns={\"tweet_id\": \"Tweet ID\", \"content\": \"Text\"}, inplace=True )\n",
    "    df.drop( df.columns.difference([\"Tweet ID\", \"Text\"]), 1, inplace=True )\n",
    "    df.set_index(\"Tweet ID\", inplace=True)\n",
    "    df.drop_duplicates(subset=\"Text\", inplace=True)\n",
    "    df[\"Source Name\"] = source_name\n",
    "    df[\"Source URL\"] = source_URL\n",
    "    return df"
   ]
  },
  {
   "cell_type": "code",
   "execution_count": 6,
   "metadata": {},
   "outputs": [],
   "source": [
    "def get_sentiment140_df():\n",
    "    source_name = \"Sentiment140\"\n",
    "    source_URL = sources[source_name][\"URL\"]\n",
    "    filenames = sources[source_name][\"filenames\"]\n",
    "    print(f\"Extracting {source_name} data\")\n",
    "\n",
    "    tweet_texts = pd.read_csv( root_dir + filenames[0], header=None ).iloc[:,-1]\n",
    "    df = pd.DataFrame({ \"Tweet ID\" : None, \"Text\" : tweet_texts })\n",
    "    df.set_index(\"Tweet ID\", inplace=True)\n",
    "    df.drop_duplicates(subset=\"Text\", inplace=True)\n",
    "    df[\"Source Name\"] = source_name\n",
    "    df[\"Source URL\"] = source_URL\n",
    "    return df"
   ]
  },
  {
   "cell_type": "code",
   "execution_count": 7,
   "metadata": {},
   "outputs": [],
   "source": [
    "def get_gwu_tweet_sets_df(source_name):\n",
    "    source_URL = sources[\"GWU-TweetSets\"][source_name][\"URL\"]\n",
    "    filenames = sources[\"GWU-TweetSets\"][source_name][\"filenames\"]\n",
    "    print(f\"Extracting {source_name} data\")\n",
    "\n",
    "    df = pd.concat( [ pd.read_csv(root_dir + filename) for filename in filenames ] )\n",
    "    df.rename( columns={\"id\": \"Tweet ID\"}, inplace=True )\n",
    "    df.set_index(\"Tweet ID\", inplace=True)\n",
    "    df.drop_duplicates(subset=\"Text\", inplace=True)\n",
    "    df[\"Source Name\"] = source_name\n",
    "    df[\"Source URL\"] = source_URL\n",
    "    return df"
   ]
  },
  {
   "cell_type": "code",
   "execution_count": 8,
   "metadata": {},
   "outputs": [],
   "source": [
    "def get_115th_congress_reps_df():\n",
    "    return get_gwu_tweet_sets_df(\"115th-Congress-Reps\")"
   ]
  },
  {
   "cell_type": "code",
   "execution_count": 9,
   "metadata": {},
   "outputs": [],
   "source": [
    "def get_115th_congress_senators_df():\n",
    "    return get_gwu_tweet_sets_df(\"115th-Congress-Senators\")"
   ]
  },
  {
   "cell_type": "code",
   "execution_count": 10,
   "metadata": {},
   "outputs": [],
   "source": [
    "def get_charlottesville_df():\n",
    "    return get_gwu_tweet_sets_df(\"Charlottesville\")"
   ]
  },
  {
   "cell_type": "code",
   "execution_count": 11,
   "metadata": {},
   "outputs": [],
   "source": [
    "def get_climate_change_df():\n",
    "    return get_gwu_tweet_sets_df(\"Climate-Change\")"
   ]
  },
  {
   "cell_type": "code",
   "execution_count": 12,
   "metadata": {},
   "outputs": [],
   "source": [
    "def get_healthcare_filter_df():\n",
    "    return get_gwu_tweet_sets_df(\"Healthcare-Filter\")"
   ]
  },
  {
   "cell_type": "code",
   "execution_count": 13,
   "metadata": {},
   "outputs": [],
   "source": [
    "def get_healthcare_search_df():\n",
    "    return get_gwu_tweet_sets_df(\"Healthcare-Search\")"
   ]
  },
  {
   "cell_type": "code",
   "execution_count": 14,
   "metadata": {},
   "outputs": [],
   "source": [
    "def get_us_government_df():\n",
    "    return get_gwu_tweet_sets_df(\"US-Government\")"
   ]
  },
  {
   "cell_type": "code",
   "execution_count": 15,
   "metadata": {},
   "outputs": [],
   "source": [
    "def get_all_tweets_from_source_files():\n",
    "    print(\"Extracting all tweets from source files...\")\n",
    "    df = pd.concat([ get_cheng_caverlee_lee_df(), \n",
    "                     get_russian_troll_tweets_df(),\n",
    "                     get_sentiment140_df(),\n",
    "                     get_115th_congress_reps_df(),\n",
    "                     get_115th_congress_senators_df(),\n",
    "                     get_charlottesville_df(),\n",
    "                     get_climate_change_df(),\n",
    "                     get_healthcare_filter_df(),\n",
    "                     get_healthcare_search_df(),\n",
    "                     get_us_government_df()\n",
    "                   ])\n",
    "    df.drop_duplicates(subset=\"Text\", inplace=True)\n",
    "    df[\"Text\"] = df[\"Text\"].str.encode('ascii', 'ignore').str.decode('ascii')\n",
    "    print(\"Done.\")\n",
    "    return df"
   ]
  },
  {
   "cell_type": "code",
   "execution_count": 16,
   "metadata": {},
   "outputs": [],
   "source": [
    "def write_all_tweets_to_csv_file(tweets_df=None, filename=\"../Tweets/all_tweets_aggregated.csv\"):\n",
    "    if tweets_df is None:\n",
    "        tweets_df = get_all_tweets_from_source_files()\n",
    "    print(\"Exporting DataFrame to CSV file...\")\n",
    "    with open(filename, \"w\") as new_file:\n",
    "        tweets_df.to_csv(new_file, sep=\"\\t\", quoting=csv.QUOTE_ALL, quotechar='\"')\n",
    "    print(\"Done.\")"
   ]
  },
  {
   "cell_type": "code",
   "execution_count": null,
   "metadata": {},
   "outputs": [],
   "source": [
    "def write_all_shuffled_tweets_to_csv_file(tweets_df=None, filename=\"../Tweets/all_tweets_shuffled.csv\"):\n",
    "    if tweets_df is None:\n",
    "        tweets_df = get_all_tweets_from_source_files()\n",
    "    tweets_df.reset_index()\n",
    "    shuffled_df_index = np.random.permutation(tweets_df.index)\n",
    "    shuffled_df = tweets_df.loc[shuffled_df_index]\n",
    "    shuffled_df.index.name = \"tmp-index\"\n",
    "    shuffled_df = shuffled_df.reset_index().drop(columns=\"tmp-index\").astype(str)\n",
    "    print(\"Exporting shuffled DataFrame to CSV file...\")\n",
    "    with open(filename, \"w\") as new_file:\n",
    "        shuffled_df.to_csv(new_file, sep=\"\\t\", quoting=csv.QUOTE_ALL, quotechar='\"')\n",
    "    print(\"Done.\")"
   ]
  }
 ],
 "metadata": {
  "kernelspec": {
   "display_name": "Python 3",
   "language": "python",
   "name": "python3"
  },
  "language_info": {
   "codemirror_mode": {
    "name": "ipython",
    "version": 3
   },
   "file_extension": ".py",
   "mimetype": "text/x-python",
   "name": "python",
   "nbconvert_exporter": "python",
   "pygments_lexer": "ipython3",
   "version": "3.7.3"
  }
 },
 "nbformat": 4,
 "nbformat_minor": 2
}
