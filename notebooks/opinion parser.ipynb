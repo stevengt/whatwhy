{
 "cells": [
  {
   "cell_type": "code",
   "execution_count": 1,
   "metadata": {},
   "outputs": [],
   "source": [
    "import requests\n",
    "import json\n",
    "from lxml import etree"
   ]
  },
  {
   "cell_type": "code",
   "execution_count": 2,
   "metadata": {},
   "outputs": [],
   "source": [
    "def get_opinion_terms_from_kaf_xml_tree(tree):\n",
    "    terms = []\n",
    "    try:\n",
    "        opinions = tree.findall(\".//opinion_expression\")\n",
    "        for opinion in opinions:\n",
    "            term_id = opinion.find(\".//target\").get(\"id\")\n",
    "            term = tree.find(\".//term[@tid='%s']\" % term_id).get(\"lemma\")\n",
    "            terms.append(term)\n",
    "    except:\n",
    "        terms = []\n",
    "    return terms"
   ]
  },
  {
   "cell_type": "code",
   "execution_count": 3,
   "metadata": {},
   "outputs": [],
   "source": [
    "def get_opinions_kaf_tree_from_text(text, opener_server_url=\"http://localhost:9999/opener\"):    \n",
    "    headers = {\n",
    "        'Content-type': 'application/json',\n",
    "    }\n",
    "    data = {\n",
    "        \"text\": text,\n",
    "        \"steps\": [\n",
    "            \"identify_language\",\n",
    "            \"tokenize\",\n",
    "            \"pos\",\n",
    "            \"constituent_parser\",\n",
    "            \"ner\",\n",
    "            \"polarity\",\n",
    "            \"opinion_detector_basic\"\n",
    "       ]\n",
    "    }\n",
    "    data_as_json = json.dumps(data)\n",
    "    response = requests.post(opener_server_url, headers=headers, data=data_as_json)\n",
    "    if response.ok and response.content is not None:\n",
    "        try:\n",
    "            response_xml = response.content\n",
    "            xml_tree = etree.fromstring(response_xml)\n",
    "            return xml_tree\n",
    "        except:\n",
    "            pass\n",
    "    return None"
   ]
  },
  {
   "cell_type": "code",
   "execution_count": 4,
   "metadata": {},
   "outputs": [],
   "source": [
    "def get_opinion_terms_from_text(text):\n",
    "    xml_tree = get_opinions_kaf_tree_from_text(text)\n",
    "    opinion_terms = get_opinion_terms_from_kaf_xml_tree(xml_tree)\n",
    "    return opinion_terms"
   ]
  },
  {
   "cell_type": "code",
   "execution_count": 5,
   "metadata": {},
   "outputs": [],
   "source": [
    "text = \"In summary, I think that going to Rome is a great idea because of the historic sites.\"\n",
    "get_opinion_terms_from_text(text)"
   ]
  },
  {
   "cell_type": "code",
   "execution_count": 6,
   "metadata": {},
   "outputs": [
    {
     "data": {
      "text/plain": [
       "['inability',\n",
       " 'unique',\n",
       " 'moral',\n",
       " 'rampant',\n",
       " 'stand',\n",
       " 'reason',\n",
       " 'reject',\n",
       " 'cleanse',\n",
       " 'recover',\n",
       " 'understanding',\n",
       " 'defend',\n",
       " 'entrust']"
      ]
     },
     "execution_count": 6,
     "metadata": {},
     "output_type": "execute_result"
    }
   ],
   "source": [
    "text = \"This isntasdf.\"\n",
    "get_opinion_terms_from_text(text)"
   ]
  },
  {
   "cell_type": "code",
   "execution_count": 7,
   "metadata": {},
   "outputs": [
    {
     "data": {
      "text/plain": [
       "[]"
      ]
     },
     "execution_count": 7,
     "metadata": {},
     "output_type": "execute_result"
    }
   ],
   "source": []
  }
 ],
 "metadata": {
  "kernelspec": {
   "display_name": "Python 3",
   "language": "python",
   "name": "python3"
  },
  "language_info": {
   "codemirror_mode": {
    "name": "ipython",
    "version": 3
   },
   "file_extension": ".py",
   "mimetype": "text/x-python",
   "name": "python",
   "nbconvert_exporter": "python",
   "pygments_lexer": "ipython3",
   "version": "3.7.4"
  }
 },
 "nbformat": 4,
 "nbformat_minor": 2
}
