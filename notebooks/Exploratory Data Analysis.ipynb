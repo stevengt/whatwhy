{
 "cells": [
  {
   "cell_type": "code",
   "execution_count": 1,
   "metadata": {},
   "outputs": [],
   "source": [
    "# Start corenlp server by running:\n",
    "#    giveme5w1h-corenlp\n",
    "# corenlp does not work on new versions of Java. Install Java 8 in a conda environment with:\n",
    "#    conda install -c cidermole jdk8\n",
    "# Must add this caching file manually:\n",
    "#    mkdir -p ~/anaconda3/envs/CONDA_ENV_NAME/lib/python3.7/site-packages/Giveme5W1H/examples/caches\n",
    "#    cd ~/anaconda3/envs/CONDA_ENV_NAME/lib/python3.7/site-packages/Giveme5W1H/examples/caches\n",
    "#    wget https://github.com/fhamborg/Giveme5W1H/blob/master/Giveme5W1H/examples/caches/_Nominatim.prickle?raw=true\n",
    "#    mv _Nominatim.prickle\\?raw\\=true Nominatim.prickle"
   ]
  },
  {
   "cell_type": "code",
   "execution_count": 2,
   "metadata": {},
   "outputs": [],
   "source": [
    "%run -i \"/home/stevengt/Documents/code/whatwhy/whatwhy/main.py\""
   ]
  },
  {
   "cell_type": "code",
   "execution_count": 3,
   "metadata": {},
   "outputs": [],
   "source": [
    "df"
   ]
  },
  {
   "cell_type": "code",
   "execution_count": null,
   "metadata": {},
   "outputs": [],
   "source": []
  }
 ],
 "metadata": {
  "kernelspec": {
   "display_name": "Python 3",
   "language": "python",
   "name": "python3"
  },
  "language_info": {
   "codemirror_mode": {
    "name": "ipython",
    "version": 3
   },
   "file_extension": ".py",
   "mimetype": "text/x-python",
   "name": "python",
   "nbconvert_exporter": "python",
   "pygments_lexer": "ipython3",
   "version": "3.7.4"
  }
 },
 "nbformat": 4,
 "nbformat_minor": 2
}
