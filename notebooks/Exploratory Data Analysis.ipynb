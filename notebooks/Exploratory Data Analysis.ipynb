{
 "cells": [
  {
   "cell_type": "code",
   "execution_count": 1,
   "metadata": {},
   "outputs": [],
   "source": [
    "import numpy as np\n",
    "import sklearn.model_selection as sk\n",
    "from whatwhy import QUESTION_WORDS\n",
    "from whatwhy.text_processing.helper_methods import get_df_from_file\n",
    "from whatwhy.resource_manager import get_glove_wiki_gigaword_50_model\n",
    "%run \"/home/stevengt/Documents/code/whatwhy/notebooks/Tweet CSV Consolidation.ipynb\""
   ]
  },
  {
   "cell_type": "code",
   "execution_count": 2,
   "metadata": {},
   "outputs": [
    {
     "name": "stderr",
     "output_type": "stream",
     "text": [
      "WARNING:whatwhy.resource_manager.gensim:glove-wiki-gigaword-50 model file was not found.\n",
      "INFO:whatwhy.resource_manager.gensim:Downloading glove-wiki-gigaword-50 model\n",
      "INFO:gensim.scripts.glove2word2vec:converting 400000 vectors from /home/stevengt/anaconda3/envs/whatwhy/lib/python3.6/site-packages/whatwhy/resources/gensim/glove.6B.50d.txt to /home/stevengt/anaconda3/envs/whatwhy/lib/python3.6/site-packages/whatwhy/resources/gensim/glove.6B.50d.word2vec.txt\n",
      "INFO:gensim.models.utils_any2vec:loading projection weights from /home/stevengt/anaconda3/envs/whatwhy/lib/python3.6/site-packages/whatwhy/resources/gensim/glove.6B.50d.word2vec.txt\n",
      "INFO:gensim.models.utils_any2vec:loaded (400000, 50) matrix from /home/stevengt/anaconda3/envs/whatwhy/lib/python3.6/site-packages/whatwhy/resources/gensim/glove.6B.50d.word2vec.txt\n"
     ]
    }
   ],
   "source": [
    "gensim_model = get_glove_wiki_gigaword_50_model()"
   ]
  },
  {
   "cell_type": "code",
   "execution_count": null,
   "metadata": {},
   "outputs": [],
   "source": []
  },
  {
   "cell_type": "code",
   "execution_count": null,
   "metadata": {},
   "outputs": [],
   "source": []
  },
  {
   "cell_type": "code",
   "execution_count": 4,
   "metadata": {},
   "outputs": [],
   "source": []
  },
  {
   "cell_type": "code",
   "execution_count": 5,
   "metadata": {
    "scrolled": true
   },
   "outputs": [],
   "source": [
    "batch_dir = \"/home/stevengt/Documents/code/whatwhy-data/News-Articles/all-the-news/tokens\"\n",
    "target_csv_name = \"/home/stevengt/Documents/code/whatwhy-data/News-Articles/all-the-news/wh_phrases.csv\"\n",
    "\n",
    "df = get_df_from_file(target_csv_name)\n",
    "\n",
    "for question_type in QUESTION_WORDS:\n",
    "    token_col = question_type + \" tokens\"\n",
    "    df[token_col] = df[token_col].apply(get_text_as_list)"
   ]
  },
  {
   "cell_type": "code",
   "execution_count": 6,
   "metadata": {},
   "outputs": [],
   "source": [
    "all_what_tokens = df[\"what tokens\"].tolist()[:5]\n",
    "all_why_tokens = df[\"why tokens\"].tolist()[:5]\n",
    "all_tokens = all_what_tokens + all_why_tokens"
   ]
  },
  {
   "cell_type": "code",
   "execution_count": 7,
   "metadata": {},
   "outputs": [
    {
     "name": "stdout",
     "output_type": "stream",
     "text": [
      "Max number of what tokens: 4\n",
      "Max number of why tokens: 8\n",
      "Longest what word has 10 letters\n",
      "Longest why word has 9 letters\n"
     ]
    }
   ],
   "source": [
    "max_num_what_tokens = get_max_num_tokens(all_what_tokens)\n",
    "max_num_why_tokens = get_max_num_tokens(all_why_tokens)\n",
    "print('Max number of what tokens: %d' % max_num_what_tokens)\n",
    "print('Max number of why tokens: %d' % max_num_why_tokens)"
   ]
  },
  {
   "cell_type": "code",
   "execution_count": 8,
   "metadata": {},
   "outputs": [
    {
     "name": "stdout",
     "output_type": "stream",
     "text": [
      "X_train.shape=(3, 4, 50)\n",
      "X_test.shape=(2, 4, 50)\n",
      "y_train.shape=(3, 4, 400000)\n",
      "y_test.shape=(2, 8, 400000)\n"
     ]
    }
   ],
   "source": [
    "X_train_raw, X_test_raw, y_train_raw, y_test_raw = sk.train_test_split(all_what_tokens, all_why_tokens, test_size=0.33, random_state = 42)\n",
    "\n",
    "X_train = embed_lists_of_tokens(gensim_model, X_train_raw)\n",
    "X_test = embed_lists_of_tokens(gensim_model, X_test_raw)\n",
    "\n",
    "y_train = get_one_hot_encodings_from_tokens_lists(gensim_model, y_train_raw)\n",
    "y_test = get_one_hot_encodings_from_tokens_lists(gensim_model, y_test_raw)\n",
    "\n",
    "print(f\"X_train.shape={X_train.shape}\")\n",
    "print(f\"X_test.shape={X_test.shape}\")\n",
    "print(f\"y_train.shape={y_train.shape}\")\n",
    "print(f\"y_test.shape={y_test.shape}\")\n"
   ]
  },
  {
   "cell_type": "code",
   "execution_count": null,
   "metadata": {},
   "outputs": [],
   "source": []
  },
  {
   "cell_type": "code",
   "execution_count": 12,
   "metadata": {},
   "outputs": [],
   "source": [
    "from tensorflow.keras import Input, Model, Sequential\n",
    "from tensorflow.keras.layers import Bidirectional, LSTM, Dense, TimeDistributed, Activation\n",
    "from tensorflow.keras.optimizers import Adam\n",
    "\n",
    "def define_model(gensim_model, max_num_what_tokens, max_num_why_tokens):\n",
    "    vocabulary_size = get_num_words_in_vocab(gensim_model)\n",
    "    hidden_size = gensim_model.vector_size\n",
    "    input_shape = (max_num_what_tokens, hidden_size)\n",
    "    output_shape = (max_num_why_tokens, vocabulary_size)\n",
    "    use_dropout=False    \n",
    "    \n",
    "    model = Sequential()\n",
    "    model.add(Input(shape=input_shape))\n",
    "#     model.add(LSTM(hidden_size, return_sequences=True))\n",
    "    model.add(LSTM(hidden_size, return_sequences=True))\n",
    "    if use_dropout:\n",
    "        model.add(Dropout(0.5))\n",
    "    model.add(TimeDistributed(Dense(vocabulary_size)))\n",
    "    model.add(Activation('softmax'))\n",
    "\n",
    "    optimizer = Adam()\n",
    "    model.compile(loss='categorical_crossentropy', optimizer='adam', metrics=['categorical_accuracy'])\n",
    "\n",
    "    print(model.summary())\n",
    "    return model"
   ]
  },
  {
   "cell_type": "code",
   "execution_count": 13,
   "metadata": {},
   "outputs": [
    {
     "name": "stdout",
     "output_type": "stream",
     "text": [
      "Model: \"sequential_1\"\n",
      "_________________________________________________________________\n",
      "Layer (type)                 Output Shape              Param #   \n",
      "=================================================================\n",
      "lstm_1 (LSTM)                (None, 4, 50)             20200     \n",
      "_________________________________________________________________\n",
      "time_distributed_1 (TimeDist (None, 4, 400000)         20400000  \n",
      "_________________________________________________________________\n",
      "activation_1 (Activation)    (None, 4, 400000)         0         \n",
      "=================================================================\n",
      "Total params: 20,420,200\n",
      "Trainable params: 20,420,200\n",
      "Non-trainable params: 0\n",
      "_________________________________________________________________\n",
      "None\n"
     ]
    }
   ],
   "source": [
    "model=define_model(gensim_model, max_num_what_tokens, max_num_why_tokens)"
   ]
  },
  {
   "cell_type": "code",
   "execution_count": null,
   "metadata": {},
   "outputs": [],
   "source": []
  },
  {
   "cell_type": "code",
   "execution_count": null,
   "metadata": {},
   "outputs": [],
   "source": [
    "model.fit(x=X_train, y=y_train, epochs=1, batch_size=16)\n",
    "# save the model\n",
    "# model.save('model.h5')"
   ]
  },
  {
   "cell_type": "code",
   "execution_count": null,
   "metadata": {},
   "outputs": [],
   "source": []
  },
  {
   "cell_type": "code",
   "execution_count": null,
   "metadata": {},
   "outputs": [],
   "source": []
  },
  {
   "cell_type": "code",
   "execution_count": null,
   "metadata": {},
   "outputs": [],
   "source": []
  },
  {
   "cell_type": "code",
   "execution_count": null,
   "metadata": {},
   "outputs": [],
   "source": []
  },
  {
   "cell_type": "code",
   "execution_count": null,
   "metadata": {},
   "outputs": [],
   "source": []
  },
  {
   "cell_type": "code",
   "execution_count": 43,
   "metadata": {},
   "outputs": [],
   "source": [
    "what_tokens = [\n",
    "    [\"hello\", \"world\", \"my\", \"name\", \"is\", \"steven\"],\n",
    "    [\"this\", \"is\", \"not\", \"some\", \"drill\"],\n",
    "    [\"this\", \"is\", \"only\", \"the\", \"test\"]\n",
    "]\n",
    "why_tokens = [\n",
    "    [\"this\", \"is\", \"some\", \"sample\", \"sentence\"],\n",
    "    [\"i\", \"learn\", \"with\", \"examples\"],\n",
    "    [\"we\", \"must\", \"figure\", \"out\", \"some\", \"solution\"]\n",
    "]\n",
    "\n",
    "max_num_what_tokens = get_max_num_tokens(what_tokens)\n",
    "max_num_why_tokens = get_max_num_tokens(why_tokens)\n",
    "\n",
    "max_num_what_characters = get_max_token_length(what_tokens)\n",
    "max_num_why_characters = get_max_token_length(why_tokens)\n",
    "\n",
    "# what_vecs = embed_lists_of_tokens(gensim_model, what_tokens)\n",
    "why_one_hot = get_flattened_one_hot_encodings_from_tokens_lists(why_tokens, max_num_why_tokens, max_num_why_characters)"
   ]
  },
  {
   "cell_type": "code",
   "execution_count": 10,
   "metadata": {},
   "outputs": [
    {
     "name": "stdout",
     "output_type": "stream",
     "text": [
      "WARNING:tensorflow:From /home/stevengt/anaconda3/envs/whatwhy/lib/python3.6/site-packages/tensorflow/python/ops/init_ops.py:1251: calling VarianceScaling.__init__ (from tensorflow.python.ops.init_ops) with dtype is deprecated and will be removed in a future version.\n",
      "Instructions for updating:\n",
      "Call initializer instance with the dtype argument instead of passing it to the constructor\n",
      "WARNING:tensorflow:From /home/stevengt/anaconda3/envs/whatwhy/lib/python3.6/site-packages/tensorflow/python/ops/init_ops.py:97: calling GlorotUniform.__init__ (from tensorflow.python.ops.init_ops) with dtype is deprecated and will be removed in a future version.\n",
      "Instructions for updating:\n",
      "Call initializer instance with the dtype argument instead of passing it to the constructor\n",
      "WARNING:tensorflow:From /home/stevengt/anaconda3/envs/whatwhy/lib/python3.6/site-packages/tensorflow/python/ops/init_ops.py:97: calling Orthogonal.__init__ (from tensorflow.python.ops.init_ops) with dtype is deprecated and will be removed in a future version.\n",
      "Instructions for updating:\n",
      "Call initializer instance with the dtype argument instead of passing it to the constructor\n",
      "WARNING:tensorflow:From /home/stevengt/anaconda3/envs/whatwhy/lib/python3.6/site-packages/tensorflow/python/ops/init_ops.py:97: calling Zeros.__init__ (from tensorflow.python.ops.init_ops) with dtype is deprecated and will be removed in a future version.\n",
      "Instructions for updating:\n",
      "Call initializer instance with the dtype argument instead of passing it to the constructor\n",
      "Model: \"model\"\n",
      "_________________________________________________________________\n",
      "Layer (type)                 Output Shape              Param #   \n",
      "=================================================================\n",
      "input_1 (InputLayer)         [(None, 4, 50)]           0         \n",
      "_________________________________________________________________\n",
      "bidirectional (Bidirectional (None, 4, 128)            58880     \n",
      "_________________________________________________________________\n",
      "dense (Dense)                (None, 4, 1872)           241488    \n",
      "=================================================================\n",
      "Total params: 300,368\n",
      "Trainable params: 300,368\n",
      "Non-trainable params: 0\n",
      "_________________________________________________________________\n"
     ]
    }
   ],
   "source": [
    "input_shape = (max_num_what_tokens, gensim_model.vector_size)\n",
    "output_length = y_train.shape[1]\n",
    "model = define_model(input_shape, output_length)"
   ]
  },
  {
   "cell_type": "code",
   "execution_count": null,
   "metadata": {},
   "outputs": [
    {
     "name": "stdout",
     "output_type": "stream",
     "text": [
      "WARNING:tensorflow:From /home/stevengt/anaconda3/envs/whatwhy/lib/python3.6/site-packages/tensorflow/python/ops/math_grad.py:1250: add_dispatch_support.<locals>.wrapper (from tensorflow.python.ops.array_ops) is deprecated and will be removed in a future version.\n",
      "Instructions for updating:\n",
      "Use tf.where in 2.0, which has the same broadcast rule as np.where\n",
      "Epoch 1/10\n"
     ]
    }
   ],
   "source": [
    "model.fit( X_train,\n",
    "           y_train,\n",
    "           batch_size=3,\n",
    "           epochs=10)"
   ]
  },
  {
   "cell_type": "code",
   "execution_count": null,
   "metadata": {},
   "outputs": [],
   "source": []
  },
  {
   "cell_type": "code",
   "execution_count": null,
   "metadata": {},
   "outputs": [],
   "source": []
  },
  {
   "cell_type": "code",
   "execution_count": null,
   "metadata": {},
   "outputs": [],
   "source": []
  },
  {
   "cell_type": "code",
   "execution_count": null,
   "metadata": {},
   "outputs": [],
   "source": []
  },
  {
   "cell_type": "code",
   "execution_count": null,
   "metadata": {},
   "outputs": [],
   "source": []
  }
 ],
 "metadata": {
  "kernelspec": {
   "display_name": "Python 3",
   "language": "python",
   "name": "python3"
  },
  "language_info": {
   "codemirror_mode": {
    "name": "ipython",
    "version": 3
   },
   "file_extension": ".py",
   "mimetype": "text/x-python",
   "name": "python",
   "nbconvert_exporter": "python",
   "pygments_lexer": "ipython3",
   "version": "3.6.9"
  }
 },
 "nbformat": 4,
 "nbformat_minor": 2
}
