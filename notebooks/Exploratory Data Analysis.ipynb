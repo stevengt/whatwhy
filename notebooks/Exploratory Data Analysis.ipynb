{
 "cells": [
  {
   "cell_type": "code",
   "execution_count": 1,
   "metadata": {},
   "outputs": [],
   "source": [
    "from whatwhy.text_processing.helper_methods import get_df_from_file, get_csv_string_from_df\n",
    "from whatwhy.data_analysis.helper_methods import get_text_as_list\n",
    "import pandas as pd\n",
    "import numpy as np\n",
    "csv_file_name = \"/home/stevengt/Documents/code/whatwhy-data/News-Articles/all-the-news/wh_phrases.csv\"\n",
    "raw_sources_csv_file_name = \"/home/stevengt/Documents/code/whatwhy-data/News-Articles/all-the-news/raw-sources/news_articles.csv\""
   ]
  },
  {
   "cell_type": "code",
   "execution_count": 2,
   "metadata": {},
   "outputs": [],
   "source": [
    "df = get_df_from_file(csv_file_name)\n",
    "df[\"what tokens\"] = df[\"what tokens\"].apply(get_text_as_list)\n",
    "df[\"why tokens\"] = df[\"why tokens\"].apply(get_text_as_list)\n",
    "df = df[pd.notnull(df[\"what tokens\"])]\n",
    "df = df[pd.notnull(df[\"why tokens\"])]"
   ]
  },
  {
   "cell_type": "code",
   "execution_count": 3,
   "metadata": {},
   "outputs": [],
   "source": [
    "def get_vocab_counts(df, col_name):\n",
    "    counts = {}\n",
    "    for tokens in df[col_name]:\n",
    "        for token in tokens:\n",
    "            count = counts.get(token)\n",
    "            if count is None:\n",
    "                count = 0\n",
    "            counts[token] = count + 1\n",
    "    return counts"
   ]
  },
  {
   "cell_type": "code",
   "execution_count": 4,
   "metadata": {},
   "outputs": [],
   "source": [
    "def remove_uncommon_whatwhy_tokens(df):\n",
    "    what_counts = get_vocab_counts(df, \"what tokens\")\n",
    "    why_counts = get_vocab_counts(df, \"why tokens\")\n",
    "    df[\"what tokens\"] = df[\"what tokens\"].apply(lambda x: [token for token in x if what_counts[token] >=10 ])\n",
    "    df[\"why tokens\"] = df[\"why tokens\"].apply(lambda x: [token for token in x if why_counts[token] >=10 ])\n",
    "    return df"
   ]
  },
  {
   "cell_type": "code",
   "execution_count": 5,
   "metadata": {},
   "outputs": [],
   "source": [
    "df = remove_uncommon_whatwhy_tokens(df)"
   ]
  },
  {
   "cell_type": "code",
   "execution_count": 6,
   "metadata": {
    "scrolled": true
   },
   "outputs": [],
   "source": [
    "csv_string = get_csv_string_from_df(df)\n",
    "with open(\"/home/stevengt/Documents/code/whatwhy-data/News-Articles/all-the-news/wh_phrases2.csv\", \"w\") as outfile:\n",
    "    outfile.write(csv_string)"
   ]
  },
  {
   "cell_type": "code",
   "execution_count": null,
   "metadata": {},
   "outputs": [],
   "source": []
  },
  {
   "cell_type": "code",
   "execution_count": 4,
   "metadata": {},
   "outputs": [],
   "source": [
    "df = get_df_from_file(raw_sources_csv_file_name)\n",
    "df.index = df[\"id\"]"
   ]
  },
  {
   "cell_type": "code",
   "execution_count": 5,
   "metadata": {},
   "outputs": [],
   "source": [
    "new_york_times_ids = df.index[ df[\"publication\"] == \"New York Times\" ]\n",
    "fox_news_ids       = df.index[ df[\"publication\"] == \"Fox News\"       ]"
   ]
  },
  {
   "cell_type": "code",
   "execution_count": null,
   "metadata": {},
   "outputs": [],
   "source": []
  },
  {
   "cell_type": "code",
   "execution_count": 6,
   "metadata": {},
   "outputs": [
    {
     "name": "stderr",
     "output_type": "stream",
     "text": [
      "/home/stevengt/anaconda3/envs/whatwhy/lib/python3.6/site-packages/ipykernel_launcher.py:6: FutureWarning: \n",
      "Passing list-likes to .loc or [] with any missing label will raise\n",
      "KeyError in the future, you can use .reindex() as an alternative.\n",
      "\n",
      "See the documentation here:\n",
      "https://pandas.pydata.org/pandas-docs/stable/user_guide/indexing.html#deprecate-loc-reindex-listlike\n",
      "  \n",
      "/home/stevengt/anaconda3/envs/whatwhy/lib/python3.6/site-packages/ipykernel_launcher.py:11: FutureWarning: \n",
      "Passing list-likes to .loc or [] with any missing label will raise\n",
      "KeyError in the future, you can use .reindex() as an alternative.\n",
      "\n",
      "See the documentation here:\n",
      "https://pandas.pydata.org/pandas-docs/stable/user_guide/indexing.html#deprecate-loc-reindex-listlike\n",
      "  # This is added back by InteractiveShellApp.init_path()\n"
     ]
    }
   ],
   "source": [
    "wh_phrases_df = get_df_from_file(csv_file_name)\n",
    "wh_phrases_df.index = wh_phrases_df[\"id\"]\n",
    "wh_phrases_df[\"what tokens\"] = wh_phrases_df[\"what tokens\"].apply(get_text_as_list)\n",
    "wh_phrases_df[\"why tokens\"] = wh_phrases_df[\"why tokens\"].apply(get_text_as_list)\n",
    "\n",
    "new_york_times_wh_phrases_df = wh_phrases_df.loc[new_york_times_ids]\n",
    "new_york_times_wh_phrases_df = new_york_times_wh_phrases_df[ pd.notnull(new_york_times_wh_phrases_df[\"what tokens\"]) ]\n",
    "new_york_times_wh_phrases_df = new_york_times_wh_phrases_df[ pd.notnull(new_york_times_wh_phrases_df[\"why tokens\"]) ]\n",
    "new_york_times_wh_phrases_df = remove_uncommon_whatwhy_tokens(new_york_times_wh_phrases_df)\n",
    "\n",
    "fox_news_wh_phrases_df = wh_phrases_df.loc[fox_news_ids]\n",
    "fox_news_wh_phrases_df = fox_news_wh_phrases_df[ pd.notnull(fox_news_wh_phrases_df[\"what tokens\"]) ]\n",
    "fox_news_wh_phrases_df = fox_news_wh_phrases_df[ pd.notnull(fox_news_wh_phrases_df[\"why tokens\"]) ]\n",
    "fox_news_wh_phrases_df = remove_uncommon_whatwhy_tokens(fox_news_wh_phrases_df)"
   ]
  },
  {
   "cell_type": "code",
   "execution_count": 7,
   "metadata": {},
   "outputs": [],
   "source": [
    "csv_string = get_csv_string_from_df(new_york_times_wh_phrases_df)\n",
    "with open(\"/home/stevengt/Documents/code/whatwhy-data/News-Articles/all-the-news/nyt_wh_phrases.csv\", \"w\") as outfile:\n",
    "    outfile.write(csv_string)\n",
    "\n",
    "    csv_string = get_csv_string_from_df(fox_news_wh_phrases_df)\n",
    "with open(\"/home/stevengt/Documents/code/whatwhy-data/News-Articles/all-the-news/fox_news_wh_phrases.csv\", \"w\") as outfile:\n",
    "    outfile.write(csv_string)"
   ]
  },
  {
   "cell_type": "code",
   "execution_count": null,
   "metadata": {},
   "outputs": [],
   "source": []
  },
  {
   "cell_type": "code",
   "execution_count": null,
   "metadata": {},
   "outputs": [],
   "source": []
  },
  {
   "cell_type": "code",
   "execution_count": null,
   "metadata": {},
   "outputs": [],
   "source": []
  },
  {
   "cell_type": "code",
   "execution_count": null,
   "metadata": {},
   "outputs": [],
   "source": []
  },
  {
   "cell_type": "code",
   "execution_count": null,
   "metadata": {},
   "outputs": [],
   "source": []
  },
  {
   "cell_type": "code",
   "execution_count": null,
   "metadata": {},
   "outputs": [],
   "source": []
  },
  {
   "cell_type": "code",
   "execution_count": null,
   "metadata": {},
   "outputs": [],
   "source": []
  },
  {
   "cell_type": "code",
   "execution_count": 43,
   "metadata": {},
   "outputs": [],
   "source": []
  },
  {
   "cell_type": "code",
   "execution_count": null,
   "metadata": {},
   "outputs": [],
   "source": []
  },
  {
   "cell_type": "code",
   "execution_count": null,
   "metadata": {},
   "outputs": [],
   "source": []
  },
  {
   "cell_type": "code",
   "execution_count": null,
   "metadata": {},
   "outputs": [],
   "source": []
  },
  {
   "cell_type": "code",
   "execution_count": null,
   "metadata": {},
   "outputs": [],
   "source": []
  },
  {
   "cell_type": "code",
   "execution_count": null,
   "metadata": {},
   "outputs": [],
   "source": []
  },
  {
   "cell_type": "code",
   "execution_count": null,
   "metadata": {},
   "outputs": [],
   "source": []
  },
  {
   "cell_type": "code",
   "execution_count": null,
   "metadata": {},
   "outputs": [],
   "source": []
  }
 ],
 "metadata": {
  "kernelspec": {
   "display_name": "Python 3",
   "language": "python",
   "name": "python3"
  },
  "language_info": {
   "codemirror_mode": {
    "name": "ipython",
    "version": 3
   },
   "file_extension": ".py",
   "mimetype": "text/x-python",
   "name": "python",
   "nbconvert_exporter": "python",
   "pygments_lexer": "ipython3",
   "version": "3.6.9"
  }
 },
 "nbformat": 4,
 "nbformat_minor": 2
}
