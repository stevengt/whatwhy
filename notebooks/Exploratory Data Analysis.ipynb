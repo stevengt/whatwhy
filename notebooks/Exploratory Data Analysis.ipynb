{
 "cells": [
  {
   "cell_type": "code",
   "execution_count": 1,
   "metadata": {},
   "outputs": [],
   "source": [
    "# Install corenlp server by running:\n",
    "#    giveme5w1h-corenlp install\n",
    "# Start corenlp server by running:\n",
    "#    giveme5w1h-corenlp\n",
    "# corenlp does not work on new versions of Java. Install Java 8 in a conda environment with:\n",
    "#    conda install -c cidermole jdk8\n",
    "# Must add this caching file manually:\n",
    "#    mkdir -p ~/anaconda3/envs/CONDA_ENV_NAME/lib/python3.7/site-packages/Giveme5W1H/examples/caches\n",
    "#    cd ~/anaconda3/envs/CONDA_ENV_NAME/lib/python3.7/site-packages/Giveme5W1H/examples/caches\n",
    "#    wget https://github.com/fhamborg/Giveme5W1H/blob/master/Giveme5W1H/examples/caches/_Nominatim.prickle?raw=true\n",
    "#    mv _Nominatim.prickle\\?raw\\=true Nominatim.prickle\n",
    "# Must download the \"punkt\" tokenizer models for nltk:\n",
    "#    python -c \"import nltk; nltk.download('punkt')\"\n",
    "# Must download the \"en_core_web_sm\" models for SpaCY:\n",
    "#    https://github.com/explosion/spaCy\n",
    "#    python -m spacy download en_core_web_sm\n",
    "# Install dask:\n",
    "#    pip install \"dask[complete]\" "
   ]
  },
  {
   "cell_type": "code",
   "execution_count": 4,
   "metadata": {
    "scrolled": true
   },
   "outputs": [],
   "source": [
    "%time %run -i \"/home/stevengt/Documents/code/whatwhy/whatwhy/main.py\""
   ]
  },
  {
   "cell_type": "code",
   "execution_count": 3,
   "metadata": {},
   "outputs": [],
   "source": [
    "%run \"/home/stevengt/Documents/code/whatwhy/notebooks/opinion parser.ipynb\""
   ]
  },
  {
   "cell_type": "code",
   "execution_count": 4,
   "metadata": {},
   "outputs": [],
   "source": [
    "# df[\"Opinion Terms\"] = df[\"Preprocessed Text\"].apply( get_opinion_terms_from_text )"
   ]
  },
  {
   "cell_type": "code",
   "execution_count": 5,
   "metadata": {
    "scrolled": true
   },
   "outputs": [],
   "source": [
    "# pd.set_option('display.max_colwidth', -1)\n",
    "# print(df[[\"Preprocessed Text\", \"Opinion Terms\"]])\n",
    "# df[\"What Raw Text\"]"
   ]
  },
  {
   "cell_type": "code",
   "execution_count": null,
   "metadata": {},
   "outputs": [],
   "source": []
  },
  {
   "cell_type": "code",
   "execution_count": null,
   "metadata": {},
   "outputs": [],
   "source": []
  },
  {
   "cell_type": "code",
   "execution_count": null,
   "metadata": {},
   "outputs": [],
   "source": []
  },
  {
   "cell_type": "code",
   "execution_count": 10,
   "metadata": {},
   "outputs": [],
   "source": []
  },
  {
   "cell_type": "code",
   "execution_count": null,
   "metadata": {},
   "outputs": [],
   "source": []
  },
  {
   "cell_type": "code",
   "execution_count": null,
   "metadata": {},
   "outputs": [],
   "source": []
  }
 ],
 "metadata": {
  "kernelspec": {
   "display_name": "Python 3",
   "language": "python",
   "name": "python3"
  },
  "language_info": {
   "codemirror_mode": {
    "name": "ipython",
    "version": 3
   },
   "file_extension": ".py",
   "mimetype": "text/x-python",
   "name": "python",
   "nbconvert_exporter": "python",
   "pygments_lexer": "ipython3",
   "version": "3.7.4"
  }
 },
 "nbformat": 4,
 "nbformat_minor": 2
}
